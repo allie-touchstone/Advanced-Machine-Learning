{
  "nbformat": 4,
  "nbformat_minor": 0,
  "metadata": {
    "colab": {
      "name": "AML HW 1.ipynb",
      "provenance": [],
      "collapsed_sections": [],
      "include_colab_link": true
    },
    "kernelspec": {
      "display_name": "Python 3",
      "language": "python",
      "name": "python3"
    },
    "language_info": {
      "codemirror_mode": {
        "name": "ipython",
        "version": 3
      },
      "file_extension": ".py",
      "mimetype": "text/x-python",
      "name": "python",
      "nbconvert_exporter": "python",
      "pygments_lexer": "ipython3",
      "version": "3.7.4"
    }
  },
  "cells": [
    {
      "cell_type": "markdown",
      "metadata": {
        "id": "view-in-github",
        "colab_type": "text"
      },
      "source": [
        "<a href=\"https://colab.research.google.com/github/allie-touchstone/Advanced-Machine-Learning/blob/main/HW%201.ipynb\" target=\"_parent\"><img src=\"https://colab.research.google.com/assets/colab-badge.svg\" alt=\"Open In Colab\"/></a>"
      ]
    },
    {
      "cell_type": "markdown",
      "metadata": {
        "id": "evHVxwk2JA-3"
      },
      "source": [
        "# <p style=\"text-align: center;\">MIS 382N: Advanced Machine Learning</p>\n",
        "# <p style=\"text-align: center;\">Homework 1</p>\n",
        "## <p style=\"text-align: center;\">Total points: 55</p>\n",
        "## <p style=\"text-align: center;\">Due: Wednesday, Sep 8 submitted via Canvas by 11:59 pm</p>\n",
        "\n",
        "Your homework should be written in a **Jupyter notebook**. Please make sure your code runs and the graphics (and anything else) are displayed in your notebook before submitting (%matplotlib inline). **This can be an individual assignment or group of 2. If you choose to do it as a group, please specify who you are working with (name and EID), then only one student should submit the homework.**\n",
        "\n",
        "**Note: Notebooks MUST have the images embedded in them. There will be no regrades if attached images do not render in the notebook. Please re download from canvas after submission and make sure all attached images render without errors. (Hint: Image module from IPython.display)**"
      ]
    },
    {
      "cell_type": "markdown",
      "metadata": {
        "id": "fee7XTLiHFJ4"
      },
      "source": [
        "Allie Touchstone awt529  \n",
        "\n",
        "Avery Shepherd ams9694"
      ]
    },
    {
      "cell_type": "code",
      "metadata": {
        "id": "0eTfjKUv7_Yo"
      },
      "source": [
        "%matplotlib inline"
      ],
      "execution_count": null,
      "outputs": []
    },
    {
      "cell_type": "markdown",
      "metadata": {
        "id": "TWWU_gOSLEEv"
      },
      "source": [
        "# Question 1: MLOps (10 pts)\n",
        "Read this [article](https://towardsdatascience.com/what-is-mlops-everything-you-must-know-to-get-started-523f2d0b8bd8) \"What is MLOps — Everything You Must Know to Get Started\", which gives a quick walkthrough of the machine learning development lifecycle and explains how MLOps come into play, or watch this [video](https://www.youtube.com/watch?v=06-AZXmwHjo) which you may find interesting.\n",
        "\n",
        "1. (**4 pts**) Use your own words to describe what MLOps is, and what challenges MLOps address. Limit your answer to one paragraph.\n",
        "\n",
        "\n",
        "2. (**6 pts**) Describe what the main phases in MLOps are. Your answer should be 2-3 paragraphs.\n",
        "\n",
        "\n",
        "## Answer:\n",
        "\n",
        "1. MLOps is how companies are going to keep up with technology. MLOps combines the development and implementation of machine learning systems. These systems are designed to keep up with production while performing at a high rate. The problems MLops are designed to address are the problems of human error. Including the collection and handling of the data, as well as the analysis of said data. These are just a few of the many things these programs are starting to do.\n",
        "\n",
        "2. The main phases of MLOps are: framing problems from business objectives, architect ML and data solutions for the problem, data preparation and processing, model training and experimentation, automating pipelines, deploying models to the production system, and the monitoring, optimization, and maintenance of models.\n",
        "\n",
        "  This starts with narrowing down what is expected of the MLOps, and how it fits into the business. This step is followed by the collection and cleaning of data sets. In the next step, you move on to working with the model, first by testing and training it. \n",
        "\n",
        "  Once you have a working model, the next step is getting it prepared for the installation by doing things such as applying the correct parameters, storing it where it can be accessed by the users, and make sure the pipeline works. That step is installing it into the system it was built for. This usually happens where it can be downloaded or become a piece of existing software. Finally, the program needs to be monitored and maintained. After seeing how it works widespread, it can usually be optimized to make the best use of it. "
      ]
    },
    {
      "cell_type": "markdown",
      "metadata": {
        "id": "wusA9L1LmUMH"
      },
      "source": [
        "# Question 2: Applications of Machine Learning (5 pts)\n",
        "Read this [article](https://builtin.com/data-science/data-science-applications-examples) \"17 Data Science Applications & Examples\" and pick one of the data science systems used by various organizations according to this blog. \n",
        "\n",
        "For this system you have chosen, answer the following questions. Please limit your answer to one paragraph:\n",
        "\n",
        "1. What kind of machine learning problem is involved (e.g. classification, regression, clustering, outlier detection,...) in this system?\n",
        "2. Speculate on what kind of data may be needed and how the results can be useful to the organization.\n",
        "3. What do you think are the ethical implications of using machine learning in a domain like this?\n",
        "\n",
        "## Answer:\n",
        "1. In the machine learning problem of Tinder: The Algorithmic Matchmaker, the software uses clustering and classification. It uses clustering to find the groups of people one might be interested in and classification to show those people to the user in a predictive way about who they might 'swipe right' on. \n",
        "2. The organization needs data about likes, location, and the type of person a user is looking for to help their machines learn. As well the use of photos is used in the gathering of data.  While the article states photos used to be the main source of information, it now appears to be only one of the many pieces of information used to find matches. \n",
        "3. I think Tinder's gathering of data is ethical. The user inputs the majority of the information themselves, and then the machines pick up more information based on people's choices via the app. "
      ]
    },
    {
      "cell_type": "markdown",
      "metadata": {
        "id": "2w8za9lLmVO7"
      },
      "source": [
        "# Question 3: Simpson's Paradox (10 pts)\n",
        "A data scientist should be careful about drawing unwarranted conclusions about any data that is presented. One of the 'gotchas' that can happen even in apparently very simple tabular summaries, is called Simpson's paradox.\n",
        "\n",
        "Read this [article](https://www.covid-datascience.com/post/israeli-data-how-can-efficacy-vs-severe-disease-be-strong-when-60-of-hospitalized-are-vaccinated), which explains why the computed efficacy of the Pfizer vaccine is misleadingly low (67.5%) when you lump all people together, but once you stratify people by age (which is the right thing to do), you get much higher efficacy numbers.\n",
        "\n",
        "1.(**5 pts**) Explain in your own words what Simpson's paradox is, and how this 'paradox' can happen in real data.\n",
        "\n",
        "2.(**5 pts**) Find and mention another example of Simpson's paradox (but not any of the 3 examples given in the Wikipedia entry for 'Simpson's paradox'), state why the paradox appeared in your chosen example. Also give a reference (URL) to your source for the chosen example.\n",
        "\n",
        "## Answer:\n",
        "1. Simpson's Paradox is when data gives you one result, only to give you a different outcome once the data is split into groups. This happened in the real data of this article, giving a changed answer of vaccine effectiveness once the group was divided into age categories. This occurs because the complete data set tells one story, and when the data is divided into categories, the categories tell a different story. \n",
        "2. An example found is how height and age affect a person's ability to play basketball. The two groups are kids aged 5 - 10 who practice basketball often and adults aged 50-55 who don't practice basketball. The overall chart shows that the taller you are, the worse you are at basketball. When split into groups of kids vs. adults, it shows that the kids are better at basketball, but they are shorter, so when all the data is looked at as one, it appears that shorter people are better at basketball. "
      ]
    },
    {
      "cell_type": "markdown",
      "metadata": {
        "id": "gth0D8jiMBSe"
      },
      "source": [
        "# Question 4: Ridge and Lasso Regression (30 pts)\n",
        "\n",
        "Download the dataset **Admission.csv** from Canvas and use the following codes to import the Admission dataset in Python. \n",
        "\n",
        "There are 7 features in the dataset:\n",
        "\n",
        "1. GRE score\n",
        "2. TOEFL score\n",
        "3. University Rating\n",
        "4. SOP(Statement of Purpose)\n",
        "5. LOR(Letter of Recommendation)\n",
        "6. CGPA\n",
        "7. Research\n",
        "\n",
        "And the target is **Chance of Admission**."
      ]
    },
    {
      "cell_type": "code",
      "metadata": {
        "colab": {
          "resources": {
            "http://localhost:8080/nbextensions/google.colab/files.js": {
              "data": "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",
              "ok": true,
              "headers": [
                [
                  "content-type",
                  "application/javascript"
                ]
              ],
              "status": 200,
              "status_text": ""
            }
          },
          "base_uri": "https://localhost:8080/",
          "height": 73
        },
        "id": "QFazlpLgGpAa",
        "outputId": "64acfe5a-1f85-4127-8516-d36f9a5a077f"
      },
      "source": [
        "# Only use this code block if you are using Google Colab.\n",
        "# If you are using Jupyter Notebook, please ignore this code block. You can directly upload the file to your Jupyter Notebook file systems.\n",
        "from google.colab import files\n",
        "\n",
        "## It will prompt you to select a local file. Click on “Choose Files” then select and upload the file. \n",
        "## Wait for the file to be 100% uploaded. You should see the name of the file once Colab has uploaded it.\n",
        "uploaded = files.upload()"
      ],
      "execution_count": null,
      "outputs": [
        {
          "output_type": "display_data",
          "data": {
            "text/html": [
              "\n",
              "     <input type=\"file\" id=\"files-38594a6c-e637-4ff7-8f68-828a73ef1b19\" name=\"files[]\" multiple disabled\n",
              "        style=\"border:none\" />\n",
              "     <output id=\"result-38594a6c-e637-4ff7-8f68-828a73ef1b19\">\n",
              "      Upload widget is only available when the cell has been executed in the\n",
              "      current browser session. Please rerun this cell to enable.\n",
              "      </output>\n",
              "      <script src=\"/nbextensions/google.colab/files.js\"></script> "
            ],
            "text/plain": [
              "<IPython.core.display.HTML object>"
            ]
          },
          "metadata": {}
        },
        {
          "output_type": "stream",
          "name": "stdout",
          "text": [
            "Saving Admission.csv to Admission.csv\n"
          ]
        }
      ]
    },
    {
      "cell_type": "code",
      "metadata": {
        "id": "xsPaOOehGuU6"
      },
      "source": [
        "# Codes below will work for both Google Colab and Jupyter Notebook.\n",
        "import numpy as np\n",
        "import pandas as pd\n",
        "import random\n",
        "from sklearn import linear_model\n",
        "from sklearn.metrics import mean_absolute_error, mean_squared_error\n",
        "\n",
        "## Load the dataset into pandas DataFrame\n",
        "df = pd.read_csv('Admission.csv', index_col=0)\n",
        "df = df.replace([np.inf, -np.inf], np.nan) # \n",
        "df = df.fillna(0) # Replace all the NaN values with 0"
      ],
      "execution_count": null,
      "outputs": []
    },
    {
      "cell_type": "code",
      "metadata": {
        "id": "PmMz72U6Gv-z"
      },
      "source": [
        "df.columns # Show you all the columns in this file"
      ],
      "execution_count": null,
      "outputs": []
    },
    {
      "cell_type": "code",
      "metadata": {
        "id": "CyZN-yFfGxlt",
        "colab": {
          "base_uri": "https://localhost:8080/",
          "height": 235
        },
        "outputId": "a16383b8-d515-4ca2-fb78-0fae80bc2569"
      },
      "source": [
        "df.head() # Show you the first 5 rows in this file"
      ],
      "execution_count": null,
      "outputs": [
        {
          "output_type": "execute_result",
          "data": {
            "text/html": [
              "<div>\n",
              "<style scoped>\n",
              "    .dataframe tbody tr th:only-of-type {\n",
              "        vertical-align: middle;\n",
              "    }\n",
              "\n",
              "    .dataframe tbody tr th {\n",
              "        vertical-align: top;\n",
              "    }\n",
              "\n",
              "    .dataframe thead th {\n",
              "        text-align: right;\n",
              "    }\n",
              "</style>\n",
              "<table border=\"1\" class=\"dataframe\">\n",
              "  <thead>\n",
              "    <tr style=\"text-align: right;\">\n",
              "      <th></th>\n",
              "      <th>GRE_Score</th>\n",
              "      <th>TOEFL_Score</th>\n",
              "      <th>University_Rating</th>\n",
              "      <th>SOP</th>\n",
              "      <th>LOR</th>\n",
              "      <th>CGPA</th>\n",
              "      <th>Research</th>\n",
              "      <th>Chance_of_Admit</th>\n",
              "    </tr>\n",
              "    <tr>\n",
              "      <th>Serial No.</th>\n",
              "      <th></th>\n",
              "      <th></th>\n",
              "      <th></th>\n",
              "      <th></th>\n",
              "      <th></th>\n",
              "      <th></th>\n",
              "      <th></th>\n",
              "      <th></th>\n",
              "    </tr>\n",
              "  </thead>\n",
              "  <tbody>\n",
              "    <tr>\n",
              "      <th>1</th>\n",
              "      <td>337</td>\n",
              "      <td>118</td>\n",
              "      <td>4</td>\n",
              "      <td>4.5</td>\n",
              "      <td>4.5</td>\n",
              "      <td>9.65</td>\n",
              "      <td>1</td>\n",
              "      <td>0.92</td>\n",
              "    </tr>\n",
              "    <tr>\n",
              "      <th>2</th>\n",
              "      <td>324</td>\n",
              "      <td>107</td>\n",
              "      <td>4</td>\n",
              "      <td>4.0</td>\n",
              "      <td>4.5</td>\n",
              "      <td>8.87</td>\n",
              "      <td>1</td>\n",
              "      <td>0.76</td>\n",
              "    </tr>\n",
              "    <tr>\n",
              "      <th>3</th>\n",
              "      <td>316</td>\n",
              "      <td>104</td>\n",
              "      <td>3</td>\n",
              "      <td>3.0</td>\n",
              "      <td>3.5</td>\n",
              "      <td>8.00</td>\n",
              "      <td>1</td>\n",
              "      <td>0.72</td>\n",
              "    </tr>\n",
              "    <tr>\n",
              "      <th>4</th>\n",
              "      <td>322</td>\n",
              "      <td>110</td>\n",
              "      <td>3</td>\n",
              "      <td>3.5</td>\n",
              "      <td>2.5</td>\n",
              "      <td>8.67</td>\n",
              "      <td>1</td>\n",
              "      <td>0.80</td>\n",
              "    </tr>\n",
              "    <tr>\n",
              "      <th>5</th>\n",
              "      <td>314</td>\n",
              "      <td>103</td>\n",
              "      <td>2</td>\n",
              "      <td>2.0</td>\n",
              "      <td>3.0</td>\n",
              "      <td>8.21</td>\n",
              "      <td>0</td>\n",
              "      <td>0.65</td>\n",
              "    </tr>\n",
              "  </tbody>\n",
              "</table>\n",
              "</div>"
            ],
            "text/plain": [
              "            GRE_Score  TOEFL_Score  ...  Research  Chance_of_Admit\n",
              "Serial No.                          ...                           \n",
              "1                 337          118  ...         1             0.92\n",
              "2                 324          107  ...         1             0.76\n",
              "3                 316          104  ...         1             0.72\n",
              "4                 322          110  ...         1             0.80\n",
              "5                 314          103  ...         0             0.65\n",
              "\n",
              "[5 rows x 8 columns]"
            ]
          },
          "metadata": {},
          "execution_count": 7
        }
      ]
    },
    {
      "cell_type": "code",
      "metadata": {
        "id": "S3TfR0i4G2rO"
      },
      "source": [
        "y = df['Chance_of_Admit'] # The column named Chance_of_Admit is used as the target, and we store it in y\n",
        "X = df.drop(['Chance_of_Admit'], axis=1) # We keep the remaining columns as the features, and store them in x"
      ],
      "execution_count": null,
      "outputs": []
    },
    {
      "cell_type": "markdown",
      "metadata": {
        "id": "pKq1KERxJw9y"
      },
      "source": [
        "1)(**2 pts**) Split the data into a training set(75% of data) and a test set(25% of data), using the [train_test_split](https://scikit-learn.org/stable/modules/generated/sklearn.model_selection.train_test_split.html) function with random_state = 50. Then scale the data (not including target) so that each of the independent variables would have zero mean and unit variance. You can use the [sklearn.preprocessing.scale](https://scikit-learn.org/stable/modules/generated/sklearn.preprocessing.scale.html) function for this. Print the first 5 rows of the training set after scaling."
      ]
    },
    {
      "cell_type": "code",
      "metadata": {
        "id": "J5w5HaG_vrkp",
        "colab": {
          "base_uri": "https://localhost:8080/",
          "height": 204
        },
        "outputId": "b98a20fa-3ae4-4707-e43c-ca7e79c7dea5"
      },
      "source": [
        "# 1\n",
        "from sklearn.model_selection import train_test_split\n",
        "X_train, X_test, y_train, y_test = train_test_split(X, y, test_size=0.25, random_state=50)\n",
        "\n",
        "from sklearn.preprocessing import scale\n",
        "X_train = pd.DataFrame(scale(X_train), columns = X_train.columns)\n",
        "X_test = pd.DataFrame(scale(X_test), columns = X_test.columns)\n",
        "\n",
        "X_train.head()"
      ],
      "execution_count": null,
      "outputs": [
        {
          "output_type": "execute_result",
          "data": {
            "text/html": [
              "<div>\n",
              "<style scoped>\n",
              "    .dataframe tbody tr th:only-of-type {\n",
              "        vertical-align: middle;\n",
              "    }\n",
              "\n",
              "    .dataframe tbody tr th {\n",
              "        vertical-align: top;\n",
              "    }\n",
              "\n",
              "    .dataframe thead th {\n",
              "        text-align: right;\n",
              "    }\n",
              "</style>\n",
              "<table border=\"1\" class=\"dataframe\">\n",
              "  <thead>\n",
              "    <tr style=\"text-align: right;\">\n",
              "      <th></th>\n",
              "      <th>GRE_Score</th>\n",
              "      <th>TOEFL_Score</th>\n",
              "      <th>University_Rating</th>\n",
              "      <th>SOP</th>\n",
              "      <th>LOR</th>\n",
              "      <th>CGPA</th>\n",
              "      <th>Research</th>\n",
              "    </tr>\n",
              "  </thead>\n",
              "  <tbody>\n",
              "    <tr>\n",
              "      <th>0</th>\n",
              "      <td>1.527254</td>\n",
              "      <td>2.091771</td>\n",
              "      <td>1.615944</td>\n",
              "      <td>0.631508</td>\n",
              "      <td>1.728291</td>\n",
              "      <td>2.113703</td>\n",
              "      <td>0.904534</td>\n",
              "    </tr>\n",
              "    <tr>\n",
              "      <th>1</th>\n",
              "      <td>0.741809</td>\n",
              "      <td>0.463089</td>\n",
              "      <td>-0.931078</td>\n",
              "      <td>-0.352660</td>\n",
              "      <td>-1.041406</td>\n",
              "      <td>0.294888</td>\n",
              "      <td>0.904534</td>\n",
              "    </tr>\n",
              "    <tr>\n",
              "      <th>2</th>\n",
              "      <td>0.567266</td>\n",
              "      <td>0.137352</td>\n",
              "      <td>1.615944</td>\n",
              "      <td>0.631508</td>\n",
              "      <td>0.620412</td>\n",
              "      <td>0.262117</td>\n",
              "      <td>0.904534</td>\n",
              "    </tr>\n",
              "    <tr>\n",
              "      <th>3</th>\n",
              "      <td>-0.392722</td>\n",
              "      <td>-0.514121</td>\n",
              "      <td>-0.082071</td>\n",
              "      <td>0.139424</td>\n",
              "      <td>0.620412</td>\n",
              "      <td>-0.802955</td>\n",
              "      <td>-1.105542</td>\n",
              "    </tr>\n",
              "    <tr>\n",
              "      <th>4</th>\n",
              "      <td>0.479994</td>\n",
              "      <td>0.788825</td>\n",
              "      <td>0.766936</td>\n",
              "      <td>1.123593</td>\n",
              "      <td>1.174352</td>\n",
              "      <td>1.114174</td>\n",
              "      <td>0.904534</td>\n",
              "    </tr>\n",
              "  </tbody>\n",
              "</table>\n",
              "</div>"
            ],
            "text/plain": [
              "   GRE_Score  TOEFL_Score  University_Rating  ...      LOR       CGPA  Research\n",
              "0   1.527254     2.091771           1.615944  ...  1.728291  2.113703  0.904534\n",
              "1   0.741809     0.463089          -0.931078  ... -1.041406  0.294888  0.904534\n",
              "2   0.567266     0.137352           1.615944  ...  0.620412  0.262117  0.904534\n",
              "3  -0.392722    -0.514121          -0.082071  ...  0.620412 -0.802955 -1.105542\n",
              "4   0.479994     0.788825           0.766936  ...  1.174352  1.114174  0.904534\n",
              "\n",
              "[5 rows x 7 columns]"
            ]
          },
          "metadata": {},
          "execution_count": 9
        }
      ]
    },
    {
      "cell_type": "markdown",
      "metadata": {
        "id": "uJQmtLUVqZ4e"
      },
      "source": [
        "2)(**5 pts**) Use [sklearn.linear_model.Lasso](https://scikit-learn.org/stable/modules/generated/sklearn.linear_model.Lasso.html) and [sklearn.linear_model.Ridge](https://scikit-learn.org/stable/modules/generated/sklearn.linear_model.Ridge.html) classes to do a **5-fold** cross validation using sklearn's KFold. For the sweep of the regularization parameter, we will look at a grid of values ranging from α=10^10 to α=10^−6. In Python, you can consider this range of values as follows: alpha = 10**numpy.linspace(6,-6,100) \n",
        "so that you can generate 100 uniform values between -6 to 6 as power series.\n",
        "\n",
        "Fit the 2 regression models with scaled data and report the best chosen **α** based on cross validation as well as the corresponding scoring metric. The cross validation should happen on your training data using **MSE** as the scoring metric."
      ]
    },
    {
      "cell_type": "code",
      "metadata": {
        "id": "LcKha50f1j5o",
        "colab": {
          "base_uri": "https://localhost:8080/"
        },
        "outputId": "c0efabdc-6594-4a17-a15f-efc0dbb1ca41"
      },
      "source": [
        "# 2\n",
        "from sklearn.model_selection import KFold\n",
        "from sklearn import metrics\n",
        "\n",
        "## ridge\n",
        "kf = KFold(5)\n",
        "ridgeMSE = np.zeros([100, 5])\n",
        "alphas = 10**np.linspace(6,-6,100) \n",
        "\n",
        "\n",
        "r = 0\n",
        "for train, test in kf.split(X_train, y_train):\n",
        "  c = 0\n",
        "  \n",
        "  for a in alphas:\n",
        "    model = linear_model.Ridge(alpha=a)\n",
        "    model.fit(X_train.iloc[train], y_train.iloc[train])\n",
        "    prediction_train = model.predict(X_train.iloc[test])\n",
        "    ridgeMSE[c][r] = metrics.mean_squared_error(y_train.iloc[test].values, prediction_train)\n",
        "    c += 1\n",
        "  \n",
        "  r += 1\n",
        "\n",
        "ridge_best_alpha = alphas[ridgeMSE.mean(axis = 1).argmin()]\n",
        "print(\"ridge best alpha is:\", ridge_best_alpha)\n",
        "\n",
        "## lasso\n",
        "kf = KFold(5)\n",
        "lassoMSE = np.zeros([100, 5])\n",
        "alphas = 10**np.linspace(6,-6,100) \n",
        "\n",
        "\n",
        "r = 0\n",
        "for train, test in kf.split(X_train, y_train):\n",
        "  c = 0\n",
        "\n",
        "  for a in alphas:\n",
        "    model = linear_model.Lasso(alpha=a)\n",
        "    model.fit(X_train.iloc[train], y_train.iloc[train])\n",
        "    prediction_train = model.predict(X_train.iloc[test])\n",
        "    lassoMSE[c][r] = metrics.mean_squared_error(y_train.iloc[test].values, prediction_train)\n",
        "    c += 1\n",
        "  \n",
        "  r += 1\n",
        "\n",
        "lasso_best_alpha = alphas[lassoMSE.mean(axis = 1).argmin()]\n",
        "print(\"lasso best alpha is:\", lasso_best_alpha)"
      ],
      "execution_count": null,
      "outputs": [
        {
          "output_type": "stream",
          "name": "stdout",
          "text": [
            "ridge best alpha is: 4.641588833612772\n",
            "lasso best alpha is: 0.001072267222010321\n"
          ]
        }
      ]
    },
    {
      "cell_type": "markdown",
      "metadata": {
        "id": "CiufrkaJqltp"
      },
      "source": [
        "3)(**5 pts**) Run ridge and lasso regression for all of the **α** specified above (on training data), and plot the coefficients learned for each of them - there should be one plot each for lasso and ridge, so a total of two plots; different features' weights of each model should be on the same plot with different colors (3pts). "
      ]
    },
    {
      "cell_type": "code",
      "metadata": {
        "id": "evismqvi0vb0",
        "colab": {
          "base_uri": "https://localhost:8080/",
          "height": 316
        },
        "outputId": "89862fb6-2bb2-4cea-d470-5a99daa0515d"
      },
      "source": [
        "from matplotlib import pyplot as plt\n",
        "ridge_coefs = []\n",
        "for a in alphas:\n",
        "  model = linear_model.Ridge(alpha=a)\n",
        "  model.fit(X_train, y_train)\n",
        "  ridge_coefs.append(model.coef_)\n",
        "\n",
        "ax = plt.gca()\n",
        "ax.plot(alphas, ridge_coefs)\n",
        "ax.set_xscale('log')\n",
        "plt.xlabel('alpha')\n",
        "plt.ylabel('weights')\n",
        "plt.title('Ridge coefficients as a function of the regularization')"
      ],
      "execution_count": null,
      "outputs": [
        {
          "output_type": "execute_result",
          "data": {
            "text/plain": [
              "Text(0.5, 1.0, 'Ridge coefficients as a function of the regularization')"
            ]
          },
          "metadata": {},
          "execution_count": 11
        },
        {
          "output_type": "display_data",
          "data": {
            "image/png": "[encoded data removed]",
            "text/plain": [
              "<Figure size 432x288 with 1 Axes>"
            ]
          },
          "metadata": {
            "needs_background": "light"
          }
        }
      ]
    },
    {
      "cell_type": "code",
      "metadata": {
        "id": "2RYq5tN9UZvW",
        "colab": {
          "base_uri": "https://localhost:8080/",
          "height": 316
        },
        "outputId": "c8321ea1-19f1-4f6f-d13c-0059e5461e73"
      },
      "source": [
        "lasso_coefs = []\n",
        "for a in alphas:\n",
        "  model = linear_model.Lasso(alpha=a)\n",
        "  model.fit(X_train, y_train)\n",
        "  lasso_coefs.append(model.coef_)\n",
        "\n",
        "ax = plt.gca()\n",
        "ax.plot(alphas, lasso_coefs)\n",
        "ax.set_xscale('log')\n",
        "plt.xlabel('alpha')\n",
        "plt.ylabel('weights')\n",
        "plt.title('Lasso coefficients as a function of the regularization')"
      ],
      "execution_count": null,
      "outputs": [
        {
          "output_type": "execute_result",
          "data": {
            "text/plain": [
              "Text(0.5, 1.0, 'Lasso coefficients as a function of the regularization')"
            ]
          },
          "metadata": {},
          "execution_count": 12
        },
        {
          "output_type": "display_data",
          "data": {
            "image/png": "[encoded data removed]",
            "text/plain": [
              "<Figure size 432x288 with 1 Axes>"
            ]
          },
          "metadata": {
            "needs_background": "light"
          }
        }
      ]
    },
    {
      "cell_type": "markdown",
      "metadata": {
        "id": "0Ztz2Y0-92PA"
      },
      "source": [
        "What do you qualitatively observe when the value of the regularization parameter changes (2pts)? \n",
        "\n",
        "### Answer: \n",
        "While alpha increases, weight trends towards zero because the regularization effect dominates the MSE"
      ]
    },
    {
      "cell_type": "markdown",
      "metadata": {
        "id": "260TfTTYqrG3"
      },
      "source": [
        "4)(**3 pts**) Take the exponential of Y_train as the target, and fit the 2 regression models again. Report the best chosen **α** based on cross validation as well as the corresponding scoring metric. Compare the results of using the original target with the results of using the exponential of the target. What do you observe? "
      ]
    },
    {
      "cell_type": "code",
      "metadata": {
        "id": "hqHDJMyn1kDg",
        "colab": {
          "base_uri": "https://localhost:8080/"
        },
        "outputId": "ef4807d1-219f-410b-8222-4752e324a147"
      },
      "source": [
        "y_train_exp = y_train**2\n",
        "y_test_exp = y_test**2\n",
        "\n",
        "\n",
        "## ridge\n",
        "kf = KFold(5)\n",
        "ridgeMSE = np.zeros([100, 5])\n",
        "alphas = 10**np.linspace(6,-6,100) \n",
        "\n",
        "\n",
        "r = 0\n",
        "for train, test in kf.split(X_train, y_train_exp):\n",
        "  c = 0\n",
        "  \n",
        "  for a in alphas:\n",
        "    model = linear_model.Ridge(alpha=a)\n",
        "    model.fit(X_train.iloc[train], y_train_exp.iloc[train])\n",
        "    prediction_train = model.predict(X_train.iloc[test])\n",
        "    ridgeMSE[c][r] = metrics.mean_squared_error(y_train_exp.iloc[test].values, prediction_train)\n",
        "    c += 1\n",
        "  \n",
        "  r += 1\n",
        "\n",
        "ridge_best_alpha = alphas[ridgeMSE.mean(axis = 1).argmin()]\n",
        "print(\"ridge best alpha is:\", ridge_best_alpha)\n",
        "\n",
        "## lasso\n",
        "kf = KFold(5)\n",
        "lassoMSE = np.zeros([100, 5])\n",
        "alphas = 10**np.linspace(6,-6,100) \n",
        "\n",
        "\n",
        "r = 0\n",
        "for train, test in kf.split(X_train, y_train_exp):\n",
        "  c = 0\n",
        "\n",
        "  for a in alphas:\n",
        "    model = linear_model.Lasso(alpha=a)\n",
        "    model.fit(X_train.iloc[train], y_train_exp.iloc[train])\n",
        "    prediction_train = model.predict(X_train.iloc[test])\n",
        "    lassoMSE[c][r] = metrics.mean_squared_error(y_train_exp.iloc[test].values, prediction_train)\n",
        "    c += 1\n",
        "  \n",
        "  r += 1\n",
        "\n",
        "lasso_best_alpha = alphas[lassoMSE.mean(axis = 1).argmin()]\n",
        "print(\"lasso best alpha is:\", lasso_best_alpha)"
      ],
      "execution_count": null,
      "outputs": [
        {
          "output_type": "stream",
          "name": "stdout",
          "text": [
            "ridge best alpha is: 6.135907273413176\n",
            "lasso best alpha is: 0.0008111308307896856\n"
          ]
        }
      ]
    },
    {
      "cell_type": "markdown",
      "metadata": {
        "id": "7cQ15qCW-9gN"
      },
      "source": [
        "The regularization variable increases."
      ]
    },
    {
      "cell_type": "markdown",
      "metadata": {
        "id": "uu720L2eqsbK"
      },
      "source": [
        "5)(**5 pts**) Similarly, use [sklearn.linear_model.ElasticNet](https://scikit-learn.org/stable/modules/generated/sklearn.linear_model.ElasticNet.html) to do linear regression with different **α** values, and plot the coefficients learned for each of them (2pts)."
      ]
    },
    {
      "cell_type": "code",
      "metadata": {
        "id": "-EVcHfr01kGg",
        "colab": {
          "base_uri": "https://localhost:8080/",
          "height": 316
        },
        "outputId": "37961b73-4721-499a-e28c-9547e232b7d7"
      },
      "source": [
        "ElasticNet_coefs = []\n",
        "for a in alphas:\n",
        "  model = linear_model.ElasticNet(alpha=a)\n",
        "  model.fit(X_train, y_train)\n",
        "  ElasticNet_coefs.append(model.coef_)\n",
        "\n",
        "ax = plt.gca()\n",
        "ax.plot(alphas, ElasticNet_coefs)\n",
        "ax.set_xscale('log')\n",
        "plt.xlabel('alpha')\n",
        "plt.ylabel('weights')\n",
        "plt.title('ElasticNet coefficients as a function of the regularization')"
      ],
      "execution_count": null,
      "outputs": [
        {
          "output_type": "execute_result",
          "data": {
            "text/plain": [
              "Text(0.5, 1.0, 'ElasticNet coefficients as a function of the regularization')"
            ]
          },
          "metadata": {},
          "execution_count": 14
        },
        {
          "output_type": "display_data",
          "data": {
            "image/png": "[encoded data removed]",
            "text/plain": [
              "<Figure size 432x288 with 1 Axes>"
            ]
          },
          "metadata": {
            "needs_background": "light"
          }
        }
      ]
    },
    {
      "cell_type": "markdown",
      "metadata": {
        "id": "x3DQ82I6sY6w"
      },
      "source": [
        " Observe the plot, then explain the pros and cons of ridge, lasso and Elastic Net models (3pts):\n",
        "\n",
        "Ridge:\n",
        "\n",
        "\n",
        "*   Good for colinearity\n",
        "*   Requires large alpha and can be more biased\n",
        "\n",
        "Lasso:\n",
        "\n",
        "\n",
        "*   Avoids over fitting\n",
        "*   Only choses select features which can lead to bias\n",
        "\n",
        "Elastic Net\n",
        "\n",
        "*   Chooses good number of features\n",
        "*   Computationally expensive\n",
        "\n",
        "\n"
      ]
    },
    {
      "cell_type": "markdown",
      "metadata": {
        "id": "VFYh6J-bq_x-"
      },
      "source": [
        "6)(**5 pts**) Run the following three regression models with **MSE** loss on the training data: \n",
        "\n",
        "a. linear regression without regularization (1pts)\n",
        "\n",
        "b. linear regression with ridge regularization (2pts)\n",
        "\n",
        "c. linear regression with lasso regularization (2pts)\n",
        "\n",
        "For part (b) and (c), use only the best regularization parameters. Report the MSE and R<sup>2</sup> on the test data for each model."
      ]
    },
    {
      "cell_type": "code",
      "metadata": {
        "id": "IKUvwIq81kJQ",
        "colab": {
          "base_uri": "https://localhost:8080/"
        },
        "outputId": "ec8ac725-5a97-4ce5-b81d-4f072cbde4e2"
      },
      "source": [
        "# a\n",
        "print(\"linear regression without regularization\")\n",
        "model = linear_model.Ridge()\n",
        "model.fit(X_train, y_train)\n",
        "prediction_train = model.predict(X_train)\n",
        "print(\"Ridge MSE: \", metrics.mean_squared_error(y_train, prediction_train))\n",
        "print(\"Ridge R^2: \", metrics.r2_score(y_train, prediction_train), \"\\n\")\n",
        "\n",
        "model = linear_model.Lasso()\n",
        "model.fit(X_train, y_train)\n",
        "prediction_train = model.predict(X_train)\n",
        "print(\"Lasso MSE: \", metrics.mean_squared_error(y_train, prediction_train))\n",
        "print(\"Lasso R^2: \", metrics.r2_score(y_train, prediction_train), \"\\n\")\n",
        "\n",
        "model = linear_model.ElasticNet()\n",
        "model.fit(X_train, y_train)\n",
        "prediction_train = model.predict(X_train)\n",
        "print(\"ElasticNet MSE: \", metrics.mean_squared_error(y_train, prediction_train))\n",
        "print(\"ElasticNet R^2: \", metrics.r2_score(y_train, prediction_train), \"\\n\")\n",
        "\n",
        "\n",
        "# b\n",
        "print(\"\\nlinear regression with ridge regularization\")\n",
        "model = linear_model.Ridge(alpha=ridge_best_alpha)\n",
        "model.fit(X_train, y_train)\n",
        "prediction_train = model.predict(X_train)\n",
        "print(\"Ridge MSE: \", metrics.mean_squared_error(y_train, prediction_train))\n",
        "print(\"Ridge R^2: \", metrics.r2_score(y_train, prediction_train), \"\\n\")\n",
        "\n",
        "model = linear_model.Lasso(alpha=ridge_best_alpha)\n",
        "model.fit(X_train, y_train)\n",
        "prediction_train = model.predict(X_train)\n",
        "print(\"Lasso MSE: \", metrics.mean_squared_error(y_train, prediction_train))\n",
        "print(\"Lasso R^2: \", metrics.r2_score(y_train, prediction_train), \"\\n\")\n",
        "\n",
        "model = linear_model.ElasticNet(alpha=ridge_best_alpha)\n",
        "model.fit(X_train, y_train)\n",
        "prediction_train = model.predict(X_train)\n",
        "print(\"ElasticNet MSE: \", metrics.mean_squared_error(y_train, prediction_train))\n",
        "print(\"ElasticNet R^2: \", metrics.r2_score(y_train, prediction_train), \"\\n\")\n",
        "\n",
        "\n",
        "# c\n",
        "print(\"\\nlinear regression with lasso regularization\")\n",
        "model = linear_model.Ridge(alpha=lasso_best_alpha)\n",
        "model.fit(X_train, y_train)\n",
        "prediction_train = model.predict(X_train)\n",
        "print(\"Ridge MSE: \", metrics.mean_squared_error(y_train, prediction_train))\n",
        "print(\"Ridge R^2: \", metrics.r2_score(y_train, prediction_train), \"\\n\")\n",
        "\n",
        "model = linear_model.Lasso(alpha=lasso_best_alpha)\n",
        "model.fit(X_train, y_train)\n",
        "prediction_train = model.predict(X_train)\n",
        "print(\"Lasso MSE: \", metrics.mean_squared_error(y_train, prediction_train))\n",
        "print(\"Lasso R^2: \", metrics.r2_score(y_train, prediction_train), \"\\n\")\n",
        "\n",
        "model = linear_model.ElasticNet(alpha=lasso_best_alpha)\n",
        "model.fit(X_train, y_train)\n",
        "prediction_train = model.predict(X_train)\n",
        "print(\"ElasticNet MSE: \", metrics.mean_squared_error(y_train, prediction_train))\n",
        "print(\"ElasticNet R^2: \", metrics.r2_score(y_train, prediction_train))"
      ],
      "execution_count": null,
      "outputs": [
        {
          "output_type": "stream",
          "name": "stdout",
          "text": [
            "linear regression without regularization\n",
            "Ridge MSE:  0.003857282554691864\n",
            "Ridge R^2:  0.8193270693454862 \n",
            "\n",
            "Lasso MSE:  0.021349532222222224\n",
            "Lasso R^2:  0.0 \n",
            "\n",
            "ElasticNet MSE:  0.021349532222222224\n",
            "ElasticNet R^2:  0.0 \n",
            "\n",
            "\n",
            "linear regression with ridge regularization\n",
            "Ridge MSE:  0.00386377611113207\n",
            "Ridge R^2:  0.8190229148388386 \n",
            "\n",
            "Lasso MSE:  0.021349532222222224\n",
            "Lasso R^2:  0.0 \n",
            "\n",
            "ElasticNet MSE:  0.021349532222222224\n",
            "ElasticNet R^2:  0.0 \n",
            "\n",
            "\n",
            "linear regression with lasso regularization\n",
            "Ridge MSE:  0.0038570690455273335\n",
            "Ridge R^2:  0.819337069993852 \n",
            "\n",
            "Lasso MSE:  0.0038581126725948022\n",
            "Lasso R^2:  0.8192881870929714 \n",
            "\n",
            "ElasticNet MSE:  0.0038573364849217497\n",
            "ElasticNet R^2:  0.8193245432840566\n"
          ]
        }
      ]
    },
    {
      "cell_type": "markdown",
      "metadata": {
        "id": "8Pd-b9gWrKZK"
      },
      "source": [
        "7)(**5 pts**) Train the 3 models and report the metrics with the original data without scaling (3pts). \n",
        "\n",
        "Why do we need to scale the data before regularization (2pts)? "
      ]
    },
    {
      "cell_type": "code",
      "metadata": {
        "id": "zRHI78pB1kM3",
        "colab": {
          "base_uri": "https://localhost:8080/"
        },
        "outputId": "0e0ae5e9-c814-41a8-af4f-36d08704b449"
      },
      "source": [
        "df = pd.read_csv('Admission.csv', index_col=0)\n",
        "df = df.replace([np.inf, -np.inf], np.nan) # \n",
        "df = df.fillna(0)\n",
        "y = df['Chance_of_Admit'] # The column named Chance_of_Admit is used as the target, and we store it in y\n",
        "X = df.drop(['Chance_of_Admit'], axis=1) # We keep the remaining columns as the features, and store them in x\n",
        "X_train, X_test, y_train, y_test = train_test_split(X, y, test_size=0.25, random_state=50)\n",
        "\n",
        "## ridge\n",
        "kf = KFold(5)\n",
        "ridgeMSE = np.zeros([100, 5])\n",
        "ridgeR2 = np.zeros([100, 5])\n",
        "alphas = 10**np.linspace(6,-6,100) \n",
        "\n",
        "\n",
        "r = 0\n",
        "for train, test in kf.split(X_train, y_train):\n",
        "  c = 0\n",
        "  \n",
        "  for a in alphas:\n",
        "    model = linear_model.Ridge(alpha=a)\n",
        "    model.fit(X_train.iloc[train], y_train.iloc[train])\n",
        "    prediction_train = model.predict(X_train.iloc[test])\n",
        "    ridgeMSE[c][r] = metrics.mean_squared_error(y_train.iloc[test].values, prediction_train)\n",
        "    ridgeR2[c][r] = metrics.r2_score(y_train.iloc[test].values, prediction_train)\n",
        "\n",
        "    c += 1\n",
        "  \n",
        "  r += 1\n",
        "\n",
        "minidx = ridgeMSE.mean(axis = 1).argmin()\n",
        "print(\"Ridge best MSE\", ridgeMSE.mean(axis = 1)[minidx])\n",
        "print(\"Ridge best R2\", ridgeR2.mean(axis = 1)[minidx])\n",
        "\n",
        "## lasso\n",
        "kf = KFold(5)\n",
        "lassoMSE = np.zeros([100, 5])\n",
        "lassoR2 = np.zeros([100, 5])\n",
        "alphas = 10**np.linspace(6,-6,100) \n",
        "\n",
        "\n",
        "r = 0\n",
        "for train, test in kf.split(X_train, y_train):\n",
        "  c = 0\n",
        "\n",
        "  for a in alphas:\n",
        "    model = linear_model.Lasso(alpha=a)\n",
        "    model.fit(X_train.iloc[train], y_train.iloc[train])\n",
        "    prediction_train = model.predict(X_train.iloc[test])\n",
        "    lassoMSE[c][r] = metrics.mean_squared_error(y_train.iloc[test].values, prediction_train)\n",
        "    lassoR2[c][r] = metrics.r2_score(y_train.iloc[test].values, prediction_train)\n",
        "\n",
        "    c += 1\n",
        "  \n",
        "  r += 1\n",
        "\n",
        "minidx = lassoMSE.mean(axis = 1).argmin()\n",
        "print()\n",
        "print(\"Lasso best MSE\", lassoMSE.mean(axis = 1)[minidx])\n",
        "print(\"Lasso best R2\", lassoR2.mean(axis = 1)[minidx])\n",
        "\n",
        "## ElasticNet\n",
        "kf = KFold(5)\n",
        "ElasticNetMSE = np.zeros([100, 5])\n",
        "ElasticNetR2 = np.zeros([100, 5])\n",
        "alphas = 10**np.linspace(6,-6,100) \n",
        "\n",
        "\n",
        "r = 0\n",
        "for train, test in kf.split(X_train, y_train):\n",
        "  c = 0\n",
        "\n",
        "  for a in alphas:\n",
        "    model = linear_model.ElasticNet(alpha=a)\n",
        "    model.fit(X_train.iloc[train], y_train.iloc[train])\n",
        "    prediction_train = model.predict(X_train.iloc[test])\n",
        "    ElasticNetMSE[c][r] = metrics.mean_squared_error(y_train.iloc[test].values, prediction_train)\n",
        "    ElasticNetR2[c][r] = metrics.r2_score(y_train.iloc[test].values, prediction_train)\n",
        "\n",
        "    c += 1\n",
        "  \n",
        "  r += 1\n",
        "\n",
        "minidx = ElasticNetMSE.mean(axis = 1).argmin()\n",
        "print()\n",
        "print(\"ElasticNet best MSE\", ElasticNetMSE.mean(axis = 1)[minidx])\n",
        "print(\"ElasticNet best R2\", ElasticNetR2.mean(axis = 1)[minidx])"
      ],
      "execution_count": null,
      "outputs": [
        {
          "output_type": "stream",
          "name": "stdout",
          "text": [
            "Ridge best MSE 0.004123596074823912\n",
            "Ridge best R2 0.8017334757182579\n",
            "\n",
            "Lasso best MSE 0.004114762849512676\n",
            "Lasso best R2 0.8020345165488802\n",
            "\n",
            "ElasticNet best MSE 0.004115711453677735\n",
            "ElasticNet best R2 0.8020026165238849\n"
          ]
        }
      ]
    },
    {
      "cell_type": "markdown",
      "metadata": {
        "id": "nAcf1Kbptr7j"
      },
      "source": [
        "Scaling is important when using regularization so that each feature impacts the outcome variable equally. This is so no feature has a prior bias."
      ]
    }
  ]
}