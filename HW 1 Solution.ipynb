{
  "nbformat": 4,
  "nbformat_minor": 0,
  "metadata": {
    "colab": {
      "name": "MIS382N_HW1_Solution.ipynb",
      "provenance": []
    },
    "kernelspec": {
      "name": "python3",
      "display_name": "Python 3"
    },
    "language_info": {
      "name": "python"
    }
  },
  "cells": [
    {
      "cell_type": "markdown",
      "metadata": {
        "id": "GClrMIdyE0Mv"
      },
      "source": [
        "# <p style=\"text-align: center;\">Homework 1 Solution</p>\n",
        "## <p style=\"text-align: center;\">Total points: 50</p>\n",
        "## <p style=\"text-align: center;\">Due: Wednesday, Sep 8 submitted via Canvas by 11:59 pm</p>\n",
        "\n",
        "Your homework should be written in a **Jupyter notebook**. Please make sure your code runs and the graphics (and anything else) are displayed in your notebook before submitting. (%matplotlib inline)\n",
        "\n",
        "**Note: Notebooks MUST have the images embedded in them. There will be no regrades if attached images do not render in the notebook. Please re download from canvas after submission and make sure all attached images render without errors. (Hint: Image module from IPython.display)**"
      ]
    },
    {
      "cell_type": "markdown",
      "metadata": {
        "id": "faGP0DWiDpw6"
      },
      "source": [
        "# Question 1: MLOps (5 pts)\n",
        "Read this [article](https://towardsdatascience.com/what-is-mlops-everything-you-must-know-to-get-started-523f2d0b8bd8) \"What is MLOps — Everything You Must Know to Get Started\", which gives a quick walkthrough of the machine learning development lifecycle and explains how MLOps come into play, or watch this [video](https://www.youtube.com/watch?v=06-AZXmwHjo) which you may find interesting.\n",
        "\n",
        "1. (**2 pts**) Use your own words to describe what MLOps is, and what challenges MLOps address. Limit your answer to one paragraph.\n",
        "\n",
        "2. (**3 pts**) Describe what the main phases in MLOps are. Your answer should be 2-3 paragraphs.\n",
        "\n",
        "\n",
        "## Answer:\n",
        "Appropriate answers in students' own words can receive full credit,\n",
        "\n",
        "1. It is an engineering discipline that aims to unify ML systems development(dev) and ML systems deployment(ops) to standardize and streamline the continuous delivery of high-performing models in production. The challenges MLOps address are: There is a shortage of Data Scientists who are good at developing and deploying scalable web applications; Reflecting changing business objectives in the model; Communication gaps; Risk Assessment.\n",
        "\n",
        "2. Framing ML problems from business objectives; Architect ML and data solutions for the problem; Data preparation and processing — part of data engineering; Model training and experimentation — data science; Building and automating ML pipelines; Deploying models to the production systemMonitor, optimize and maintain models."
      ]
    },
    {
      "cell_type": "markdown",
      "metadata": {
        "id": "rSuy38O9DqoF"
      },
      "source": [
        "# Question 2: Applications of Machine Learning (5 pts)\n",
        "Read this [article](https://builtin.com/data-science/data-science-applications-examples) \"17 Data Science Applications & Examples\" and pick one of the data science systems used by various organizations according to this blog. \n",
        "\n",
        "For this system you have chosen, answer the following questions. Please limit your answer to one paragraph:\n",
        "\n",
        "1. What kind of machine learning problem is involved (e.g. classification, regression, clustering, outlier detection,...) in this system?\n",
        "2. Speculate on what kind of data may be needed and how the results can be useful to the organization.\n",
        "3. What do you think are the ethical implications of using machine learning in a domain like this?\n",
        "\n",
        "## Answer:\n",
        "To receive full credit, answer must include:\n",
        "1. An explanation of why the system lends itself to the chosen machine learning problem (classification, regression, etc)\n",
        "2. An explanation of how/why the dataset maps to the system and problem type.\n",
        "3. Reasonable answers will receive full credit."
      ]
    },
    {
      "cell_type": "markdown",
      "metadata": {
        "id": "PyrHQXbdDtkQ"
      },
      "source": [
        "# Question 3: Simpson's Paradox (10 pts)\n",
        "A data scientist should be careful about drawing unwarranted conclusions about any data that is presented. One of the 'gotchas' that can happen even in apparently very simple tabular summaries, is called Simpson's paradox.\n",
        "\n",
        "Read this [article](https://www.covid-datascience.com/post/israeli-data-how-can-efficacy-vs-severe-disease-be-strong-when-60-of-hospitalized-are-vaccinated), which explains why the computed efficacy of the Pfizer vaccine is misleadingly low (67.5%) when you lump all people together, but once you stratify people by age (which is the right thing to do), you get much higher efficacy numbers.\n",
        "\n",
        "1.(**5 pts**) Explain in your own words what Simpson's paradox is, and how this 'paradox' can happen in real data.\n",
        "\n",
        "2.(**5 pts**) Find and mention another example of Simpson's paradox (but not any of the 3 examples given in the Wikipedia entry for 'Simpson's paradox'), state why the paradox appeared in your chosen example. Also give a reference (URL) to your source for the chosen example.\n",
        "\n",
        "## Answer:\n",
        "Appropriate answers in students' own words can receive full credit.\n",
        "1. A trend or result that is present when data is put into groups that reverses or disappears when the data is combined. Simpson’s Paradox occurs when trends that appear when a dataset is separated into groups reverse when the data are aggregated. \n",
        "2. Reasonable answers can receive full credits."
      ]
    },
    {
      "cell_type": "markdown",
      "metadata": {
        "id": "JgXmisPTDwnc"
      },
      "source": [
        "\n",
        "# Question 4: Ridge and Lasso Regression (30 pts)\n",
        "\n",
        "Download the dataset **Admission.csv** from Canvas and use the following codes to import the Admission dataset in Python. \n",
        "\n",
        "There are 7 features in the dataset:\n",
        "\n",
        "1. GRE score\n",
        "2. TOEFL score\n",
        "3. University Rating\n",
        "4. SOP(Statement of Purpose)\n",
        "5. LOR(Letter of Recommendation)\n",
        "6. CGPA\n",
        "7. Research\n",
        "\n",
        "And the target is **Chance of Admission**.\n",
        "\n",
        "1)(**2 pts**) Split the data into a training set(75% of data) and a test set(25% of data), using the [train_test_split](https://scikit-learn.org/stable/modules/generated/sklearn.model_selection.train_test_split.html) function with random_state = 50. Then scale the data (not including target) so that each of the independent variables would have zero mean and unit variance. You can use the [sklearn.preprocessing.scale](https://scikit-learn.org/stable/modules/generated/sklearn.preprocessing.scale.html) function for this. Print the first 5 rows of the training set after scaling.\n",
        "\n",
        "2)(**5 pts**) Use [sklearn.linear_model.Lasso](https://scikit-learn.org/stable/modules/generated/sklearn.linear_model.Lasso.html) and [sklearn.linear_model.Ridge](https://scikit-learn.org/stable/modules/generated/sklearn.linear_model.Ridge.html) classes to do a **5-fold** cross validation using sklearn's KFold. For the sweep of the regularization parameter, we will look at a grid of values ranging from α=10^6 to α=10^−6. In Python, you can consider this range of values as follows: alpha = 10**numpy.linspace(6,-6,100) \n",
        "so that you can generate 100 uniform values between -6 to 6 as power series.\n",
        "\n",
        "Fit the 2 regression models with scaled data and report the best chosen **α** based on cross validation as well as the corresponding scoring metric. The cross validation should happen on your training data using **MSE** as the scoring metric.\n",
        "\n",
        "3)(**5 pts**) Run ridge and lasso regression for all of the **α** specified above (on training data), and plot the coefficients learned for each of them - there should be one plot each for lasso and ridge, so a total of two plots; different features' weights of each model should be on the same plot with different colors (3pts). \n",
        "\n",
        "What do you qualitatively observe when the value of the regularization parameter changes (2pts)? \n",
        "\n",
        "4)(**3 pts**) Take the exponential of Y_train as the target, and fit the 2 regression models again. Report the best chosen **α** based on cross validation as well as the corresponding scoring metric. Compare the results of using the original target with the results of using the exponential of the target. What do you observe? \n",
        "\n",
        "5)(**5 pts**) Similarly, use [sklearn.linear_model.ElasticNet](https://scikit-learn.org/stable/modules/generated/sklearn.linear_model.ElasticNet.html) to do linear regression with different **α** values, and plot the coefficients learned for each of them(2pts). Observe the plot, then explain the pros and cons of ridge, lasso and Elastic Net models(3pts).\n",
        "\n",
        "\n",
        "6)(**5 pts**) Run the following three regression models with **MSE** loss on the training data: \n",
        "\n",
        "a. linear regression without regularization (1pts)\n",
        "\n",
        "b. linear regression with ridge regularization (2pts)\n",
        "\n",
        "c. linear regression with lasso regularization (2pts)\n",
        "\n",
        "For part (b) and (c), use only the best regularization parameters. Report the MSE and R<sup>2</sup> on the test data for each of the models.\n",
        "\n",
        "7)(**5 pts**) Train the 3 models and report metrics with the original data without scaling (3pts). \n",
        "\n",
        "Why do we need to scale the data before regularization (2pts)? \n",
        "\n",
        "## Answer:\n",
        "###(1)"
      ]
    },
    {
      "cell_type": "code",
      "metadata": {
        "id": "Bg8e5pxAEMhl"
      },
      "source": [
        "import numpy as np\n",
        "import pandas as pd\n",
        "import random\n",
        "from sklearn import linear_model\n",
        "from sklearn.metrics import mean_absolute_error, mean_squared_error\n",
        "\n",
        "\n",
        "## Load the dataset into pandas DataFrame\n",
        "df = pd.read_csv('Admission.csv', index_col=0)\n",
        "df = df.replace([np.inf, -np.inf], np.nan) # \n",
        "df = df.fillna(0) # Replace all the NaN values with 0\n",
        "\n",
        "y = df['Chance_of_Admit'] # The column named Chance_of_Admit is used as the target, and we store it in y\n",
        "X = df.drop(['Chance_of_Admit'], axis=1) # We keep the remaining columns as the features, and store them in x"
      ],
      "execution_count": 1,
      "outputs": []
    },
    {
      "cell_type": "code",
      "metadata": {
        "colab": {
          "base_uri": "https://localhost:8080/"
        },
        "id": "rMn7nbp9EBQk",
        "outputId": "97099b21-9a44-408a-e3b0-4aaf3e2e346d"
      },
      "source": [
        "from sklearn import preprocessing\n",
        "from sklearn.model_selection import train_test_split\n",
        "# Split the training and test data \n",
        "X_train, X_test, Y_train, Y_test = train_test_split(X, y, test_size = 0.25, random_state=50)\n",
        "\n",
        "# Preprocessing Scaling the Features\n",
        "X_train = preprocessing.scale(X_train)\n",
        "X_test = preprocessing.scale(X_test)\n",
        "Y_train = Y_train.to_numpy()\n",
        "Y_test = Y_test.to_numpy()\n",
        "print('The first 5 rows data after scaling:')\n",
        "print(X_train[0:5])"
      ],
      "execution_count": 2,
      "outputs": [
        {
          "output_type": "stream",
          "name": "stdout",
          "text": [
            "The first 5 rows data after scaling:\n",
            "[[ 1.52725374  2.0917706   1.61594354  0.63150829  1.72829095  2.11370277\n",
            "   0.90453403]\n",
            " [ 0.74180896  0.46308859 -0.9310778  -0.35266047 -1.04140609  0.29488827\n",
            "   0.90453403]\n",
            " [ 0.56726568  0.13735218  1.61594354  0.63150829  0.62041214  0.26211684\n",
            "   0.90453403]\n",
            " [-0.39272239 -0.51412062 -0.08207069  0.13942391  0.62041214 -0.80295471\n",
            "  -1.1055416 ]\n",
            " [ 0.47999403  0.78882499  0.76693642  1.12359267  1.17435154  1.11417408\n",
            "   0.90453403]]\n"
          ]
        }
      ]
    },
    {
      "cell_type": "markdown",
      "metadata": {
        "id": "Ii0N2GDgEB0w"
      },
      "source": [
        "### (2)"
      ]
    },
    {
      "cell_type": "code",
      "metadata": {
        "colab": {
          "base_uri": "https://localhost:8080/"
        },
        "id": "xsRWOWhlEDHH",
        "outputId": "2b69dcaf-cfb5-42e5-9b6a-3461120ee34e"
      },
      "source": [
        "from sklearn.metrics import mean_squared_error, accuracy_score\n",
        "from sklearn.model_selection import KFold\n",
        "import matplotlib.pyplot as plt\n",
        "%matplotlib inline\n",
        "import warnings\n",
        "warnings.filterwarnings('ignore')\n",
        "\n",
        "# Define number of folds and create KFold from sklearn\n",
        "n_folds = 5\n",
        "k_fold = KFold(n_folds)\n",
        "lasso_alphas =  10**np.linspace(6,-6,100)       #(start at 6, end at -6 )           \n",
        "lasso_avg_mse = {}\n",
        "#For each value of alpha and each fold compute the mean square error\n",
        "for alpha in lasso_alphas:\n",
        "  lasso = linear_model.Lasso(alpha=alpha)\n",
        "  avg_mse = 0\n",
        "  for k, (train, test) in enumerate(k_fold.split(X_train, Y_train)):\n",
        "    lasso.fit(X_train[train], Y_train[train])    \n",
        "    avg_mse = avg_mse + mean_squared_error(Y_train[test], lasso.predict(X_train[test])) \n",
        "  # Take the average mean squared error as metric\n",
        "  lasso_avg_mse[alpha] = avg_mse / n_folds\n",
        "\n",
        "# Find the best value for alpha with minimum mean squared error\n",
        "best_alpha_lasso = min(lasso_avg_mse, key=lasso_avg_mse.get)\n",
        "print(\"Best lasso alpha: {}\".format(best_alpha_lasso))\n",
        "\n",
        "ridge_alphas =  10**np.linspace(6,-6,100)\n",
        "ridge_avg_mse = {}\n",
        "\n",
        "for alpha in ridge_alphas:\n",
        "  ridge = linear_model.Ridge(alpha=alpha)\n",
        "  avg_mse = 0\n",
        "  for k, (train, test) in enumerate(k_fold.split(X_train, Y_train)):\n",
        "      ridge.fit(X_train[train], Y_train[train])\n",
        "      avg_mse = avg_mse + mean_squared_error(Y_train[test], ridge.predict(X_train[test])) \n",
        "  ridge_avg_mse[alpha] = avg_mse / n_folds\n",
        "best_alpha_ridge = min(ridge_avg_mse, key=ridge_avg_mse.get)\n",
        "print(\"Best ridge alpha: {}\".format(best_alpha_ridge))"
      ],
      "execution_count": 3,
      "outputs": [
        {
          "output_type": "stream",
          "name": "stdout",
          "text": [
            "Best lasso alpha: 0.001072267222010321\n",
            "Best ridge alpha: 4.641588833612772\n"
          ]
        }
      ]
    },
    {
      "cell_type": "markdown",
      "metadata": {
        "id": "vq3fiG-VEVT_"
      },
      "source": [
        "### (3)"
      ]
    },
    {
      "cell_type": "code",
      "metadata": {
        "colab": {
          "base_uri": "https://localhost:8080/",
          "height": 299
        },
        "id": "Js98vBHGEWXh",
        "outputId": "86942288-9040-4357-967b-a98834ee2dad"
      },
      "source": [
        "alphas = 10**np.linspace(6,-6,100)\n",
        "\n",
        "ridge = linear_model.Ridge(alpha=alpha)\n",
        "coefs = []\n",
        "\n",
        "for a in alphas:\n",
        "    ridge.set_params(alpha=a)\n",
        "    ridge.fit(X_train, Y_train)\n",
        "    coefs.append(ridge.coef_)\n",
        "\n",
        "ax = plt.gca()\n",
        "ax.plot(alphas, coefs)\n",
        "ax.set_xscale('log')\n",
        "ax.set_xlim(ax.get_xlim()[::-1])  # reverse axis\n",
        "plt.axis('tight')\n",
        "plt.xlabel('alpha')\n",
        "plt.ylabel('weights')\n",
        "plt.title('Ridge coefficients as a function of the regularization');"
      ],
      "execution_count": 4,
      "outputs": [
        {
          "output_type": "display_data",
          "data": {
            "image/png": "[encoded data removed]",
            "text/plain": [
              "<Figure size 432x288 with 1 Axes>"
            ]
          },
          "metadata": {
            "needs_background": "light"
          }
        }
      ]
    },
    {
      "cell_type": "code",
      "metadata": {
        "colab": {
          "base_uri": "https://localhost:8080/",
          "height": 299
        },
        "id": "22A7pdqKEYza",
        "outputId": "d07422a7-3ee8-45fa-ed71-5e06e15441d8"
      },
      "source": [
        "alphas = 10**np.linspace(6,-6,100)\n",
        "\n",
        "lasso = linear_model.Lasso(alpha=alpha,tol=.1)\n",
        "coefs = []\n",
        "\n",
        "for a in alphas:\n",
        "    lasso.set_params(alpha=a,tol=.1)\n",
        "    lasso.fit(X_train, Y_train)\n",
        "    coefs.append(lasso.coef_)\n",
        "\n",
        "ax = plt.gca()\n",
        "ax.plot(alphas, coefs)\n",
        "ax.set_xscale('log')\n",
        "ax.set_xlim(ax.get_xlim()[::-1])  # reverse axis\n",
        "plt.axis('tight')\n",
        "plt.xlabel('alpha')\n",
        "plt.ylabel('weights')\n",
        "plt.title('Lasso coefficients as a function of the regularization');"
      ],
      "execution_count": 5,
      "outputs": [
        {
          "output_type": "display_data",
          "data": {
            "image/png": "[encoded data removed]",
            "text/plain": [
              "<Figure size 432x288 with 1 Axes>"
            ]
          },
          "metadata": {
            "needs_background": "light"
          }
        }
      ]
    },
    {
      "cell_type": "markdown",
      "metadata": {
        "id": "TlGCTUlrEa-O"
      },
      "source": [
        "As the value of the regularization parameter increases, the weights approach zero for both Ridge and Lasso regression. This is because with a larger penalty term, the model complexity is penalized, thereby reducing or shrinking the coeffiecient associated with each variable with the target except the intercept. When $\\alpha$ = 0, the penalty term will have no effect and the estimates will be equal to ordinary least squares regression. For intermediate values, ridge regression coefficients are not zero, there is a small weight associated with each feature. However for lasso regression intermediate values of regularization parameters, some of the coefficients tend to zero, so lasso performs a feature selection. "
      ]
    },
    {
      "cell_type": "markdown",
      "metadata": {
        "id": "2jGxLvYKEbkN"
      },
      "source": [
        "### (4)"
      ]
    },
    {
      "cell_type": "code",
      "metadata": {
        "colab": {
          "base_uri": "https://localhost:8080/"
        },
        "id": "tI3VZ9cbEdaL",
        "outputId": "6965cdaf-d20c-40aa-8981-2cdebe0d5e3a"
      },
      "source": [
        "exp_Y_Train = np.exp(Y_train)\n",
        "# Define number of folds and create KFold from sklearn\n",
        "n_folds = 5\n",
        "k_fold = KFold(n_folds)\n",
        "lasso_alphas =  10**np.linspace(6,-6,100)       #(start at 6, end at -6 )           \n",
        "lasso_avg_mse = {}\n",
        "#For each value of alpha and each fold compute the mean square error\n",
        "for alpha in lasso_alphas:\n",
        "  lasso = linear_model.Lasso(alpha=alpha, tol=0.1)\n",
        "  avg_mse = 0\n",
        "  for k, (train, test) in enumerate(k_fold.split(X_train, exp_Y_Train)):\n",
        "    lasso.fit(X_train[train], exp_Y_Train[train])    \n",
        "    avg_mse = avg_mse + mean_squared_error(exp_Y_Train[test], lasso.predict(X_train[test])) \n",
        "  # Take the average mean squared error as metric\n",
        "  lasso_avg_mse[alpha] = avg_mse / n_folds\n",
        "\n",
        "# Find the best value for alpha with minimum mean squared error\n",
        "best_alpha_lasso = min(lasso_avg_mse, key=lasso_avg_mse.get)\n",
        "print(\"Best lasso alpha: {}\".format(best_alpha_lasso))\n",
        "\n",
        "ridge_alphas =  10**np.linspace(6,-6,100)\n",
        "ridge_avg_mse = {}\n",
        "\n",
        "for alpha in ridge_alphas:\n",
        "  ridge = linear_model.Ridge(alpha=alpha)\n",
        "  avg_mse = 0\n",
        "  for k, (train, test) in enumerate(k_fold.split(X_train, exp_Y_Train)):\n",
        "      ridge.fit(X_train[train], exp_Y_Train[train])\n",
        "      avg_mse = avg_mse + mean_squared_error(exp_Y_Train[test], ridge.predict(X_train[test])) \n",
        "  ridge_avg_mse[alpha] = avg_mse / n_folds\n",
        "best_alpha_ridge = min(ridge_avg_mse, key=ridge_avg_mse.get)\n",
        "print(\"Best ridge alpha: {}\".format(best_alpha_ridge))"
      ],
      "execution_count": 6,
      "outputs": [
        {
          "output_type": "stream",
          "name": "stdout",
          "text": [
            "Best lasso alpha: 0.00572236765935022\n",
            "Best ridge alpha: 6.135907273413176\n"
          ]
        }
      ]
    },
    {
      "cell_type": "markdown",
      "metadata": {
        "id": "tsoc14eBEgi_"
      },
      "source": [
        "The bese lasso and ridge alphas both increase. Original target is the chance of admission which is between 0 and 1. When we take the exponential of tagets become larger so it needs larger regularization coefficients to prevent regression from overfitting. Regularization term is actually a penalty term to restrict the magnitude of weights."
      ]
    },
    {
      "cell_type": "markdown",
      "metadata": {
        "id": "DnL1xA9cEhH-"
      },
      "source": [
        "### (5)"
      ]
    },
    {
      "cell_type": "code",
      "metadata": {
        "id": "ST5QXTarEg7T"
      },
      "source": [
        "alphas = 10**np.linspace(6,-6,100)\n",
        "\n",
        "ElastNet = linear_model.ElasticNet(alpha=alpha)\n",
        "coefs = []\n",
        "\n",
        "for a in alphas:\n",
        "    ElastNet.set_params(alpha=a)\n",
        "    ElastNet.fit(X_train, Y_train)\n",
        "    coefs.append(ElastNet.coef_)\n",
        "\n",
        "ax = plt.gca()\n",
        "ax.plot(alphas, coefs)\n",
        "ax.set_xscale('log')\n",
        "ax.set_xlim(ax.get_xlim()[::-1])  # reverse axis\n",
        "plt.axis('tight')\n",
        "plt.xlabel('alpha')\n",
        "plt.ylabel('weights')\n",
        "plt.title('Elastic Net coefficients as a function of the regularization');"
      ],
      "execution_count": null,
      "outputs": []
    },
    {
      "cell_type": "markdown",
      "metadata": {
        "id": "WxY3ZQ2lEk58"
      },
      "source": [
        "1. Ridge regularization is easy to copmute, with smooth property and does not add complexity to the regression model with MSE loss. Although ridge regularization can force all the weights close to 0 but can not get to 0 exactly, it's not convenient to explain importance of each feature.\n",
        "2. Lasso regularization is more difficult to solve but easy to get 'sparse solution'. We can tune the regularization coefficient and make some features with 0 coefficients so that we can features selection and explain features more easily.\n",
        "3. ElasticNet has both ridge and lasso terms, combining them with a hyper-parameter. ElasticNet can provide sparse solution as well as strong ability to prevent overfitting."
      ]
    },
    {
      "cell_type": "markdown",
      "metadata": {
        "id": "0ANVHVZAEmyn"
      },
      "source": [
        "### (6)"
      ]
    },
    {
      "cell_type": "code",
      "metadata": {
        "colab": {
          "base_uri": "https://localhost:8080/"
        },
        "id": "RmyP6jt3Eox4",
        "outputId": "22d2e73d-3922-41ca-bf7a-db7a98494557"
      },
      "source": [
        "from sklearn.metrics import mean_absolute_error\n",
        "from sklearn.metrics import r2_score\n",
        "# Create model with best alpha found from previous parts\n",
        "linear_clf = linear_model.LinearRegression()\n",
        "ridge_clf = linear_model.Ridge(alpha=best_alpha_ridge)\n",
        "lasso_clf = linear_model.Lasso(alpha=best_alpha_lasso,tol=.1)#, max_iter=100000)#,tol=1)\n",
        "\n",
        "# Fit model with best parameters\n",
        "def fit_reg(model, name):\n",
        "    model.fit(X_train, Y_train)\n",
        "    pred = model.predict(X_test)\n",
        "    mae = mean_absolute_error(pred, Y_test)\n",
        "    mse = mean_squared_error(pred,Y_test)\n",
        "    r2 = r2_score(pred,Y_test)\n",
        "    print(\"MSE for {0}: {1}\".format(name, mse))\n",
        "    print(\"MAE for {0}: {1}\".format(name, mae))\n",
        "    print(\"R_2 for {0}: {1}\".format(name, r2))\n",
        "\n",
        "\n",
        "fit_reg(linear_clf, \"linear\")\n",
        "print(\"\")\n",
        "fit_reg(ridge_clf, \"ridge\")\n",
        "print(\"\")\n",
        "fit_reg(lasso_clf, \"lasso\") "
      ],
      "execution_count": 7,
      "outputs": [
        {
          "output_type": "stream",
          "name": "stdout",
          "text": [
            "MSE for linear: 0.005200215496311305\n",
            "MAE for linear: 0.05381914820420122\n",
            "R_2 for linear: 0.7044797039330424\n",
            "\n",
            "MSE for ridge: 0.005130698675442873\n",
            "MAE for ridge: 0.05336220142471739\n",
            "R_2 for ridge: 0.7039269760309509\n",
            "\n",
            "MSE for lasso: 0.005161311508517952\n",
            "MAE for lasso: 0.05369397869578101\n",
            "R_2 for lasso: 0.6817537350812641\n"
          ]
        }
      ]
    },
    {
      "cell_type": "markdown",
      "metadata": {
        "id": "8rsSGGAeErYV"
      },
      "source": [
        "### (7)"
      ]
    },
    {
      "cell_type": "code",
      "metadata": {
        "colab": {
          "base_uri": "https://localhost:8080/"
        },
        "id": "CBR-NGLbEsZt",
        "outputId": "94d140c1-8087-4f0e-e32e-bc3889179901"
      },
      "source": [
        "X_train, X_test, Y_train, Y_test = train_test_split(X, y, test_size = 0.25, random_state=50)\n",
        "Y_train = Y_train.to_numpy()\n",
        "Y_test = Y_test.to_numpy()\n",
        "\n",
        "# Create model with best alpha found from previous parts\n",
        "linear_clf = linear_model.LinearRegression()\n",
        "ridge_clf = linear_model.Ridge(alpha=best_alpha_ridge)\n",
        "lasso_clf = linear_model.Lasso(alpha=best_alpha_lasso,tol=.1)#, max_iter=100000)#,tol=1)\n",
        "\n",
        "# Fit model with best parameters\n",
        "def fit_reg(model, name):\n",
        "    model.fit(X_train, Y_train)\n",
        "    pred = model.predict(X_test)\n",
        "    mae = mean_absolute_error(pred, Y_test)\n",
        "    mse = mean_squared_error(pred,Y_test)\n",
        "    r2 = r2_score(pred,Y_test)\n",
        "    print(\"MSE for {0}: {1}\".format(name, mse))\n",
        "    print(\"MAE for {0}: {1}\".format(name, mae))\n",
        "    print(\"R_2 for {0}: {1}\".format(name, r2))\n",
        "\n",
        "\n",
        "fit_reg(linear_clf, \"linear\")\n",
        "print(\"\")\n",
        "fit_reg(ridge_clf, \"ridge\")\n",
        "print(\"\")\n",
        "fit_reg(lasso_clf, \"lasso\")"
      ],
      "execution_count": 8,
      "outputs": [
        {
          "output_type": "stream",
          "name": "stdout",
          "text": [
            "MSE for linear: 0.004526319242200032\n",
            "MAE for linear: 0.04764888825493142\n",
            "R_2 for linear: 0.7016312211698046\n",
            "\n",
            "MSE for ridge: 0.004526774739955567\n",
            "MAE for ridge: 0.047560077870881956\n",
            "R_2 for ridge: 0.6987252903987896\n",
            "\n",
            "MSE for lasso: 0.004856870746858527\n",
            "MAE for lasso: 0.04874646725058703\n",
            "R_2 for lasso: 0.6711982444996848\n"
          ]
        }
      ]
    },
    {
      "cell_type": "markdown",
      "metadata": {
        "id": "YOBvb4fdEufx"
      },
      "source": [
        "Why scaling so important?\n",
        "\n",
        "Scaling is done before regularization to ensure that all parameters are penalized equally. If different variables have different scale of values, then their corresponding parameters will also be in a different scale and hence will be penalized unequally during regularization."
      ]
    }
  ]
}